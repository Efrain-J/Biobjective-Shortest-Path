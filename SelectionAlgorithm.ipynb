{
  "cells": [
    {
      "cell_type": "code",
      "execution_count": 107,
      "id": "b3vFk4_RO2gr",
      "metadata": {
        "id": "b3vFk4_RO2gr"
      },
      "outputs": [],
      "source": [
        "# Librerias\n",
        "import math\n",
        "import pandas as pd\n",
        "import numpy as np"
      ]
    },
    {
      "cell_type": "markdown",
      "id": "dff76df0",
      "metadata": {},
      "source": [
        "Para escoger el mejor camino de BOA, o NGSA-II , se deben tener guardado los caminos del algoritmo en un excel cuyas columnas sean 'N. solucion', 'Distancia' y 'Contaminacion'.\n",
        "\n",
        "Para obtener el ranking de algoritmos se debe tener guardado los resultados de los algoritmos en un excel, cuyas columnas sean 'Algoritmo', 'Distancia', 'Contaminacion' y 'Tiempo de ejecucion'."
      ]
    },
    {
      "cell_type": "code",
      "execution_count": 108,
      "id": "08ecaaef-59bf-482a-8265-56e8fad441c0",
      "metadata": {
        "id": "08ecaaef-59bf-482a-8265-56e8fad441c0"
      },
      "outputs": [],
      "source": [
        "file_path = \"resultados.xlsx\"\n",
        "df = pd.read_excel(file_path)"
      ]
    },
    {
      "cell_type": "code",
      "execution_count": 109,
      "id": "d-nRZYSHaOsN",
      "metadata": {
        "id": "d-nRZYSHaOsN"
      },
      "outputs": [
        {
          "data": {
            "text/html": [
              "<div>\n",
              "<style scoped>\n",
              "    .dataframe tbody tr th:only-of-type {\n",
              "        vertical-align: middle;\n",
              "    }\n",
              "\n",
              "    .dataframe tbody tr th {\n",
              "        vertical-align: top;\n",
              "    }\n",
              "\n",
              "    .dataframe thead th {\n",
              "        text-align: right;\n",
              "    }\n",
              "</style>\n",
              "<table border=\"1\" class=\"dataframe\">\n",
              "  <thead>\n",
              "    <tr style=\"text-align: right;\">\n",
              "      <th></th>\n",
              "      <th>Algoritmo</th>\n",
              "      <th>Distancia (m)</th>\n",
              "      <th>Contaminacion (%)</th>\n",
              "      <th>Tiempo de procesamiento (seg)</th>\n",
              "    </tr>\n",
              "  </thead>\n",
              "  <tbody>\n",
              "    <tr>\n",
              "      <th>0</th>\n",
              "      <td>Dijkstra min dist</td>\n",
              "      <td>7.230581</td>\n",
              "      <td>94.052809</td>\n",
              "      <td>0.263563</td>\n",
              "    </tr>\n",
              "    <tr>\n",
              "      <th>1</th>\n",
              "      <td>Dijkstra min polucion</td>\n",
              "      <td>12.230042</td>\n",
              "      <td>31.886277</td>\n",
              "      <td>0.204578</td>\n",
              "    </tr>\n",
              "    <tr>\n",
              "      <th>2</th>\n",
              "      <td>Astar min dist</td>\n",
              "      <td>7.230581</td>\n",
              "      <td>94.052809</td>\n",
              "      <td>0.297704</td>\n",
              "    </tr>\n",
              "    <tr>\n",
              "      <th>3</th>\n",
              "      <td>Astar min polucion</td>\n",
              "      <td>12.230042</td>\n",
              "      <td>31.886277</td>\n",
              "      <td>0.230880</td>\n",
              "    </tr>\n",
              "    <tr>\n",
              "      <th>4</th>\n",
              "      <td>D-e</td>\n",
              "      <td>9.701702</td>\n",
              "      <td>49.502686</td>\n",
              "      <td>0.224505</td>\n",
              "    </tr>\n",
              "    <tr>\n",
              "      <th>5</th>\n",
              "      <td>A-e</td>\n",
              "      <td>9.701702</td>\n",
              "      <td>49.502686</td>\n",
              "      <td>0.257728</td>\n",
              "    </tr>\n",
              "    <tr>\n",
              "      <th>6</th>\n",
              "      <td>Pulse</td>\n",
              "      <td>7.863335</td>\n",
              "      <td>49.898616</td>\n",
              "      <td>23.354958</td>\n",
              "    </tr>\n",
              "    <tr>\n",
              "      <th>7</th>\n",
              "      <td>Boa</td>\n",
              "      <td>8.577492</td>\n",
              "      <td>42.786975</td>\n",
              "      <td>8.923044</td>\n",
              "    </tr>\n",
              "  </tbody>\n",
              "</table>\n",
              "</div>"
            ],
            "text/plain": [
              "               Algoritmo  Distancia (m)  Contaminacion (%)  \\\n",
              "0      Dijkstra min dist       7.230581          94.052809   \n",
              "1  Dijkstra min polucion      12.230042          31.886277   \n",
              "2         Astar min dist       7.230581          94.052809   \n",
              "3     Astar min polucion      12.230042          31.886277   \n",
              "4                    D-e       9.701702          49.502686   \n",
              "5                    A-e       9.701702          49.502686   \n",
              "6                  Pulse       7.863335          49.898616   \n",
              "7                    Boa       8.577492          42.786975   \n",
              "\n",
              "   Tiempo de procesamiento (seg)  \n",
              "0                       0.263563  \n",
              "1                       0.204578  \n",
              "2                       0.297704  \n",
              "3                       0.230880  \n",
              "4                       0.224505  \n",
              "5                       0.257728  \n",
              "6                      23.354958  \n",
              "7                       8.923044  "
            ]
          },
          "execution_count": 109,
          "metadata": {},
          "output_type": "execute_result"
        }
      ],
      "source": [
        "df"
      ]
    },
    {
      "cell_type": "code",
      "execution_count": 110,
      "id": "3027abd7-79e3-416b-8680-10f1395c20be",
      "metadata": {
        "id": "3027abd7-79e3-416b-8680-10f1395c20be"
      },
      "outputs": [],
      "source": [
        "#alternatives = df['N. solucion']\n",
        "#criteria = df.drop('N. solucion', axis=1)\n",
        "alternatives = df['Algoritmo']\n",
        "criteria = df.drop('Algoritmo', axis=1)\n",
        "criteria_matrix = criteria.values"
      ]
    },
    {
      "cell_type": "code",
      "execution_count": 111,
      "id": "0ba5b462-d950-480b-a1b0-fb514041b9d4",
      "metadata": {
        "id": "0ba5b462-d950-480b-a1b0-fb514041b9d4"
      },
      "outputs": [],
      "source": [
        "m = criteria_matrix.shape[1]"
      ]
    },
    {
      "cell_type": "markdown",
      "id": "eRcReIPtZ-ZP",
      "metadata": {
        "id": "eRcReIPtZ-ZP"
      },
      "source": [
        "# SHANNON"
      ]
    },
    {
      "cell_type": "code",
      "execution_count": 112,
      "id": "c88adf05-c5d4-403a-a721-f9fd1645b6f1",
      "metadata": {
        "id": "c88adf05-c5d4-403a-a721-f9fd1645b6f1"
      },
      "outputs": [],
      "source": [
        "normal_criteria_matrix = np.zeros_like(criteria_matrix, dtype=float)\n",
        "\n",
        "for col_idx in range(criteria_matrix.shape[1]):\n",
        "    col_sum = np.sum(criteria_matrix[:, col_idx])\n",
        "    normal_criteria_matrix[:, col_idx] = criteria_matrix[:, col_idx] / col_sum"
      ]
    },
    {
      "cell_type": "code",
      "execution_count": 113,
      "id": "5f323357-8953-4387-be3f-dc19fa8b0ffe",
      "metadata": {
        "id": "5f323357-8953-4387-be3f-dc19fa8b0ffe"
      },
      "outputs": [],
      "source": [
        "k = 1/math.log(m)"
      ]
    },
    {
      "cell_type": "code",
      "execution_count": 114,
      "id": "331d98a4-c8e6-4638-9668-068eb884aa35",
      "metadata": {
        "id": "331d98a4-c8e6-4638-9668-068eb884aa35"
      },
      "outputs": [],
      "source": [
        "normal_ln_criteria_matrix = np.log(normal_criteria_matrix)"
      ]
    },
    {
      "cell_type": "code",
      "execution_count": 115,
      "id": "a35624e1-90bd-41c4-be1f-4baa7396d46e",
      "metadata": {
        "id": "a35624e1-90bd-41c4-be1f-4baa7396d46e"
      },
      "outputs": [],
      "source": [
        "ej = -k * np.sum((normal_criteria_matrix * normal_ln_criteria_matrix), axis=0)"
      ]
    },
    {
      "cell_type": "code",
      "execution_count": 116,
      "id": "d39c12e6-bc83-44d5-811e-94844d17e095",
      "metadata": {
        "id": "d39c12e6-bc83-44d5-811e-94844d17e095"
      },
      "outputs": [],
      "source": [
        "wj = ((1-ej)/np.sum(ej))*(1-ej)"
      ]
    },
    {
      "cell_type": "code",
      "execution_count": 117,
      "id": "aea1b107-727c-4871-ab2f-7be07ea23da2",
      "metadata": {
        "id": "aea1b107-727c-4871-ab2f-7be07ea23da2"
      },
      "outputs": [],
      "source": [
        "df_wj = pd.DataFrame({'Criteria': criteria.columns.tolist(), 'Wj': wj})"
      ]
    },
    {
      "cell_type": "code",
      "execution_count": 118,
      "id": "91e3732a-7b55-4185-a779-a28f1195ba68",
      "metadata": {
        "id": "91e3732a-7b55-4185-a779-a28f1195ba68"
      },
      "outputs": [],
      "source": [
        "df_wj_sorted = df_wj.sort_values(by='Wj', ascending=False)"
      ]
    },
    {
      "cell_type": "markdown",
      "id": "a18bf6c2-d3c5-4c43-9e91-8878886995d3",
      "metadata": {
        "id": "a18bf6c2-d3c5-4c43-9e91-8878886995d3"
      },
      "source": [
        "## Pesos por SHANNON"
      ]
    },
    {
      "cell_type": "code",
      "execution_count": 119,
      "id": "82a50762-df6a-4fde-b4db-c81626b1b5c0",
      "metadata": {
        "colab": {
          "base_uri": "https://localhost:8080/"
        },
        "id": "82a50762-df6a-4fde-b4db-c81626b1b5c0",
        "outputId": "25fefa84-b994-47ef-a9e0-3d0370bcde49"
      },
      "outputs": [
        {
          "name": "stdout",
          "output_type": "stream",
          "text": [
            "                Distancia (m) 0.172237\n",
            "            Contaminacion (%) 0.150616\n",
            "Tiempo de procesamiento (seg) 0.014300\n"
          ]
        }
      ],
      "source": [
        "print(df_wj_sorted.to_string(header=False, index=False))"
      ]
    },
    {
      "cell_type": "markdown",
      "id": "0nzwBvvKYmul",
      "metadata": {
        "id": "0nzwBvvKYmul"
      },
      "source": [
        "# SHANNON-TOPSIS"
      ]
    },
    {
      "cell_type": "code",
      "execution_count": 120,
      "id": "2bc4d784-81e3-413e-886c-756204bb5182",
      "metadata": {
        "id": "2bc4d784-81e3-413e-886c-756204bb5182"
      },
      "outputs": [],
      "source": [
        "ideal_criteria = np.max(df.iloc[:, 1:].to_numpy(), axis=0)\n",
        "antideal_criteria = np.min(df.iloc[:, 1:].to_numpy(), axis=0)"
      ]
    },
    {
      "cell_type": "code",
      "execution_count": 121,
      "id": "5c3e7cde-f5dc-41c9-871b-bf221d6e243e",
      "metadata": {
        "colab": {
          "base_uri": "https://localhost:8080/"
        },
        "id": "5c3e7cde-f5dc-41c9-871b-bf221d6e243e",
        "outputId": "0718bb8b-105b-4a63-e3e0-296946ef8f8e"
      },
      "outputs": [
        {
          "data": {
            "text/plain": [
              "array([12.23004231, 94.05280944, 23.35495758])"
            ]
          },
          "execution_count": 121,
          "metadata": {},
          "output_type": "execute_result"
        }
      ],
      "source": [
        "ideal_criteria"
      ]
    },
    {
      "cell_type": "code",
      "execution_count": 122,
      "id": "620adea1-cf58-463c-b710-69e4c2ea5269",
      "metadata": {
        "colab": {
          "base_uri": "https://localhost:8080/"
        },
        "id": "620adea1-cf58-463c-b710-69e4c2ea5269",
        "outputId": "01a22fc1-b200-4188-e394-7ab590235c0d"
      },
      "outputs": [
        {
          "data": {
            "text/plain": [
              "array([ 7.23058136, 31.88627667,  0.20457768])"
            ]
          },
          "execution_count": 122,
          "metadata": {},
          "output_type": "execute_result"
        }
      ],
      "source": [
        "antideal_criteria"
      ]
    },
    {
      "cell_type": "code",
      "execution_count": 123,
      "id": "c9c982ad-d914-48c8-a9fe-d5bb3cee0fd4",
      "metadata": {
        "id": "c9c982ad-d914-48c8-a9fe-d5bb3cee0fd4"
      },
      "outputs": [],
      "source": [
        "norm_criteria = np.linalg.norm(df.iloc[:, 1:], axis=0)"
      ]
    },
    {
      "cell_type": "code",
      "execution_count": 124,
      "id": "da60ee73-2c1b-400d-8b45-86dd7a389da7",
      "metadata": {
        "colab": {
          "base_uri": "https://localhost:8080/"
        },
        "id": "da60ee73-2c1b-400d-8b45-86dd7a389da7",
        "outputId": "61f2c7c1-1a11-407d-9809-0e674371896e"
      },
      "outputs": [
        {
          "data": {
            "text/plain": [
              "array([ 26.9696485 , 170.13806242,  25.00889528])"
            ]
          },
          "execution_count": 124,
          "metadata": {},
          "output_type": "execute_result"
        }
      ],
      "source": [
        "norm_criteria"
      ]
    },
    {
      "cell_type": "code",
      "execution_count": 125,
      "id": "bc9d07f9-b8cb-4502-bc06-0e693a3b58de",
      "metadata": {
        "id": "bc9d07f9-b8cb-4502-bc06-0e693a3b58de"
      },
      "outputs": [],
      "source": [
        "topsis_criteria_norm_matrix = criteria.div(norm_criteria)"
      ]
    },
    {
      "cell_type": "code",
      "execution_count": 126,
      "id": "9cd57545-e4d9-439d-a883-0b0a3ee59162",
      "metadata": {
        "colab": {
          "base_uri": "https://localhost:8080/",
          "height": 206
        },
        "id": "9cd57545-e4d9-439d-a883-0b0a3ee59162",
        "outputId": "9caedffc-e93f-46c4-99b5-adf44d4eb90f",
        "scrolled": true
      },
      "outputs": [
        {
          "data": {
            "text/html": [
              "<div>\n",
              "<style scoped>\n",
              "    .dataframe tbody tr th:only-of-type {\n",
              "        vertical-align: middle;\n",
              "    }\n",
              "\n",
              "    .dataframe tbody tr th {\n",
              "        vertical-align: top;\n",
              "    }\n",
              "\n",
              "    .dataframe thead th {\n",
              "        text-align: right;\n",
              "    }\n",
              "</style>\n",
              "<table border=\"1\" class=\"dataframe\">\n",
              "  <thead>\n",
              "    <tr style=\"text-align: right;\">\n",
              "      <th></th>\n",
              "      <th>Distancia (m)</th>\n",
              "      <th>Contaminacion (%)</th>\n",
              "      <th>Tiempo de procesamiento (seg)</th>\n",
              "    </tr>\n",
              "  </thead>\n",
              "  <tbody>\n",
              "    <tr>\n",
              "      <th>0</th>\n",
              "      <td>0.268101</td>\n",
              "      <td>0.552803</td>\n",
              "      <td>0.010539</td>\n",
              "    </tr>\n",
              "    <tr>\n",
              "      <th>1</th>\n",
              "      <td>0.453474</td>\n",
              "      <td>0.187414</td>\n",
              "      <td>0.008180</td>\n",
              "    </tr>\n",
              "    <tr>\n",
              "      <th>2</th>\n",
              "      <td>0.268101</td>\n",
              "      <td>0.552803</td>\n",
              "      <td>0.011904</td>\n",
              "    </tr>\n",
              "    <tr>\n",
              "      <th>3</th>\n",
              "      <td>0.453474</td>\n",
              "      <td>0.187414</td>\n",
              "      <td>0.009232</td>\n",
              "    </tr>\n",
              "    <tr>\n",
              "      <th>4</th>\n",
              "      <td>0.359727</td>\n",
              "      <td>0.290956</td>\n",
              "      <td>0.008977</td>\n",
              "    </tr>\n",
              "    <tr>\n",
              "      <th>5</th>\n",
              "      <td>0.359727</td>\n",
              "      <td>0.290956</td>\n",
              "      <td>0.010305</td>\n",
              "    </tr>\n",
              "    <tr>\n",
              "      <th>6</th>\n",
              "      <td>0.291562</td>\n",
              "      <td>0.293283</td>\n",
              "      <td>0.933866</td>\n",
              "    </tr>\n",
              "    <tr>\n",
              "      <th>7</th>\n",
              "      <td>0.318042</td>\n",
              "      <td>0.251484</td>\n",
              "      <td>0.356795</td>\n",
              "    </tr>\n",
              "  </tbody>\n",
              "</table>\n",
              "</div>"
            ],
            "text/plain": [
              "   Distancia (m)  Contaminacion (%)  Tiempo de procesamiento (seg)\n",
              "0       0.268101           0.552803                       0.010539\n",
              "1       0.453474           0.187414                       0.008180\n",
              "2       0.268101           0.552803                       0.011904\n",
              "3       0.453474           0.187414                       0.009232\n",
              "4       0.359727           0.290956                       0.008977\n",
              "5       0.359727           0.290956                       0.010305\n",
              "6       0.291562           0.293283                       0.933866\n",
              "7       0.318042           0.251484                       0.356795"
            ]
          },
          "execution_count": 126,
          "metadata": {},
          "output_type": "execute_result"
        }
      ],
      "source": [
        "topsis_criteria_norm_matrix"
      ]
    },
    {
      "cell_type": "code",
      "execution_count": 127,
      "id": "d623e9f1-0d79-4450-8ea9-2b28e2e394eb",
      "metadata": {
        "id": "d623e9f1-0d79-4450-8ea9-2b28e2e394eb"
      },
      "outputs": [],
      "source": [
        "ideal_topsis_criteria = np.max(topsis_criteria_norm_matrix.to_numpy(), axis=0)\n",
        "antideal_topsis_criteria = np.min(topsis_criteria_norm_matrix.to_numpy(), axis=0)"
      ]
    },
    {
      "cell_type": "code",
      "execution_count": 128,
      "id": "b0211601-ae1d-4af3-ad4d-ce7ab8c5892c",
      "metadata": {
        "colab": {
          "base_uri": "https://localhost:8080/"
        },
        "id": "b0211601-ae1d-4af3-ad4d-ce7ab8c5892c",
        "outputId": "c9d317ea-65a2-4e60-a2cc-22cd417338a5"
      },
      "outputs": [
        {
          "data": {
            "text/plain": [
              "array([0.45347429, 0.55280287, 0.93386602])"
            ]
          },
          "execution_count": 128,
          "metadata": {},
          "output_type": "execute_result"
        }
      ],
      "source": [
        "ideal_topsis_criteria"
      ]
    },
    {
      "cell_type": "code",
      "execution_count": 129,
      "id": "3114cbea-21bf-4504-bd07-124f9f4ec551",
      "metadata": {
        "colab": {
          "base_uri": "https://localhost:8080/"
        },
        "id": "3114cbea-21bf-4504-bd07-124f9f4ec551",
        "outputId": "dd1b6019-4ad9-4e86-96ec-4624ec1e47a3"
      },
      "outputs": [
        {
          "data": {
            "text/plain": [
              "array([0.26810069, 0.18741413, 0.0081802 ])"
            ]
          },
          "execution_count": 129,
          "metadata": {},
          "output_type": "execute_result"
        }
      ],
      "source": [
        "antideal_topsis_criteria"
      ]
    },
    {
      "cell_type": "code",
      "execution_count": 130,
      "id": "8c870253-e33d-456f-9697-a1373d385fb3",
      "metadata": {
        "id": "8c870253-e33d-456f-9697-a1373d385fb3"
      },
      "outputs": [],
      "source": [
        "ideal_shannon = ideal_topsis_criteria*wj"
      ]
    },
    {
      "cell_type": "code",
      "execution_count": 131,
      "id": "3da7e38b-4935-440d-ad8d-2036e3a95a58",
      "metadata": {
        "colab": {
          "base_uri": "https://localhost:8080/"
        },
        "id": "3da7e38b-4935-440d-ad8d-2036e3a95a58",
        "outputId": "7e4461e4-2bda-4869-ba35-c00aca8150cb"
      },
      "outputs": [
        {
          "data": {
            "text/plain": [
              "array([0.07810527, 0.08326095, 0.01335415])"
            ]
          },
          "execution_count": 131,
          "metadata": {},
          "output_type": "execute_result"
        }
      ],
      "source": [
        "ideal_shannon"
      ]
    },
    {
      "cell_type": "code",
      "execution_count": 132,
      "id": "9f10d255-27cc-4987-9b6c-2f0bd7e9d803",
      "metadata": {
        "id": "9f10d255-27cc-4987-9b6c-2f0bd7e9d803"
      },
      "outputs": [],
      "source": [
        "antideal_shannon = antideal_topsis_criteria*wj"
      ]
    },
    {
      "cell_type": "code",
      "execution_count": 133,
      "id": "bd56b321-29d4-48c6-9f20-77972540981a",
      "metadata": {
        "colab": {
          "base_uri": "https://localhost:8080/"
        },
        "id": "bd56b321-29d4-48c6-9f20-77972540981a",
        "outputId": "c576cfa2-6bd0-429b-91a4-2cc738dacff5"
      },
      "outputs": [
        {
          "data": {
            "text/plain": [
              "array([0.04617699, 0.02822756, 0.00011698])"
            ]
          },
          "execution_count": 133,
          "metadata": {},
          "output_type": "execute_result"
        }
      ],
      "source": [
        "antideal_shannon"
      ]
    },
    {
      "cell_type": "code",
      "execution_count": 134,
      "id": "f887f3d1-ef97-4c3c-b9ac-45a628296e41",
      "metadata": {
        "id": "f887f3d1-ef97-4c3c-b9ac-45a628296e41"
      },
      "outputs": [],
      "source": [
        "pon_shannon =  topsis_criteria_norm_matrix.mul(wj)"
      ]
    },
    {
      "cell_type": "code",
      "execution_count": 135,
      "id": "a5afd8e1-4a80-4389-b245-5dbf00537961",
      "metadata": {
        "colab": {
          "base_uri": "https://localhost:8080/",
          "height": 206
        },
        "id": "a5afd8e1-4a80-4389-b245-5dbf00537961",
        "outputId": "c126d479-af32-45b2-d554-6cafe7d47d5c",
        "scrolled": true
      },
      "outputs": [
        {
          "data": {
            "text/html": [
              "<div>\n",
              "<style scoped>\n",
              "    .dataframe tbody tr th:only-of-type {\n",
              "        vertical-align: middle;\n",
              "    }\n",
              "\n",
              "    .dataframe tbody tr th {\n",
              "        vertical-align: top;\n",
              "    }\n",
              "\n",
              "    .dataframe thead th {\n",
              "        text-align: right;\n",
              "    }\n",
              "</style>\n",
              "<table border=\"1\" class=\"dataframe\">\n",
              "  <thead>\n",
              "    <tr style=\"text-align: right;\">\n",
              "      <th></th>\n",
              "      <th>Distancia (m)</th>\n",
              "      <th>Contaminacion (%)</th>\n",
              "      <th>Tiempo de procesamiento (seg)</th>\n",
              "    </tr>\n",
              "  </thead>\n",
              "  <tbody>\n",
              "    <tr>\n",
              "      <th>0</th>\n",
              "      <td>0.046177</td>\n",
              "      <td>0.083261</td>\n",
              "      <td>0.000151</td>\n",
              "    </tr>\n",
              "    <tr>\n",
              "      <th>1</th>\n",
              "      <td>0.078105</td>\n",
              "      <td>0.028228</td>\n",
              "      <td>0.000117</td>\n",
              "    </tr>\n",
              "    <tr>\n",
              "      <th>2</th>\n",
              "      <td>0.046177</td>\n",
              "      <td>0.083261</td>\n",
              "      <td>0.000170</td>\n",
              "    </tr>\n",
              "    <tr>\n",
              "      <th>3</th>\n",
              "      <td>0.078105</td>\n",
              "      <td>0.028228</td>\n",
              "      <td>0.000132</td>\n",
              "    </tr>\n",
              "    <tr>\n",
              "      <th>4</th>\n",
              "      <td>0.061958</td>\n",
              "      <td>0.043823</td>\n",
              "      <td>0.000128</td>\n",
              "    </tr>\n",
              "    <tr>\n",
              "      <th>5</th>\n",
              "      <td>0.061958</td>\n",
              "      <td>0.043823</td>\n",
              "      <td>0.000147</td>\n",
              "    </tr>\n",
              "    <tr>\n",
              "      <th>6</th>\n",
              "      <td>0.050218</td>\n",
              "      <td>0.044173</td>\n",
              "      <td>0.013354</td>\n",
              "    </tr>\n",
              "    <tr>\n",
              "      <th>7</th>\n",
              "      <td>0.054779</td>\n",
              "      <td>0.037877</td>\n",
              "      <td>0.005102</td>\n",
              "    </tr>\n",
              "  </tbody>\n",
              "</table>\n",
              "</div>"
            ],
            "text/plain": [
              "   Distancia (m)  Contaminacion (%)  Tiempo de procesamiento (seg)\n",
              "0       0.046177           0.083261                       0.000151\n",
              "1       0.078105           0.028228                       0.000117\n",
              "2       0.046177           0.083261                       0.000170\n",
              "3       0.078105           0.028228                       0.000132\n",
              "4       0.061958           0.043823                       0.000128\n",
              "5       0.061958           0.043823                       0.000147\n",
              "6       0.050218           0.044173                       0.013354\n",
              "7       0.054779           0.037877                       0.005102"
            ]
          },
          "execution_count": 135,
          "metadata": {},
          "output_type": "execute_result"
        }
      ],
      "source": [
        "pon_shannon"
      ]
    },
    {
      "cell_type": "code",
      "execution_count": 136,
      "id": "8add485f-d15b-40aa-ba23-4baa3ff4b3c8",
      "metadata": {
        "id": "8add485f-d15b-40aa-ba23-4baa3ff4b3c8"
      },
      "outputs": [],
      "source": [
        "ideal_wj = (pon_shannon.sub(ideal_shannon)) ** 2"
      ]
    },
    {
      "cell_type": "code",
      "execution_count": 137,
      "id": "b4d3947c-3096-4d0c-801b-e98b76b665a6",
      "metadata": {
        "id": "b4d3947c-3096-4d0c-801b-e98b76b665a6"
      },
      "outputs": [],
      "source": [
        "euclidean_norms_ideal_wj = np.linalg.norm(ideal_wj.values, axis=1)"
      ]
    },
    {
      "cell_type": "code",
      "execution_count": 138,
      "id": "fb90d68a-1ee0-4aeb-b1e6-d56d1d8392c0",
      "metadata": {
        "id": "fb90d68a-1ee0-4aeb-b1e6-d56d1d8392c0",
        "scrolled": true
      },
      "outputs": [],
      "source": [
        "antideal_wj = (pon_shannon.sub(antideal_shannon)) ** 2"
      ]
    },
    {
      "cell_type": "code",
      "execution_count": 139,
      "id": "a182fd3d-2bb4-41df-a56d-c7ac16eeb1dd",
      "metadata": {
        "id": "a182fd3d-2bb4-41df-a56d-c7ac16eeb1dd"
      },
      "outputs": [],
      "source": [
        "euclidean_norms_antideal_wj = np.linalg.norm(antideal_wj.values, axis=1)"
      ]
    },
    {
      "cell_type": "code",
      "execution_count": 140,
      "id": "42092f42-eda2-4491-b747-c01ba61f8236",
      "metadata": {
        "id": "42092f42-eda2-4491-b747-c01ba61f8236"
      },
      "outputs": [],
      "source": [
        "rsi = euclidean_norms_antideal_wj/(euclidean_norms_ideal_wj+euclidean_norms_antideal_wj)"
      ]
    },
    {
      "cell_type": "code",
      "execution_count": 141,
      "id": "_a_BdWN6uppC",
      "metadata": {
        "colab": {
          "base_uri": "https://localhost:8080/"
        },
        "id": "_a_BdWN6uppC",
        "outputId": "ffa32814-638b-4009-9ebd-d98c03a86132"
      },
      "outputs": [
        {
          "data": {
            "text/plain": [
              "array([0.74544852, 0.25151165, 0.74546442, 0.25151307, 0.17991223,\n",
              "       0.17991737, 0.1528061 , 0.05393312])"
            ]
          },
          "execution_count": 141,
          "metadata": {},
          "output_type": "execute_result"
        }
      ],
      "source": [
        "rsi"
      ]
    },
    {
      "cell_type": "code",
      "execution_count": 142,
      "id": "36d197b6-b3f1-4235-9363-4a5900303a1a",
      "metadata": {
        "id": "36d197b6-b3f1-4235-9363-4a5900303a1a"
      },
      "outputs": [],
      "source": [
        "sorted_algorithms = np.argsort(rsi)"
      ]
    },
    {
      "cell_type": "code",
      "execution_count": 143,
      "id": "ZjsD63ZUut25",
      "metadata": {
        "colab": {
          "base_uri": "https://localhost:8080/"
        },
        "id": "ZjsD63ZUut25",
        "outputId": "9c3846bb-758c-40fb-f28c-11a7530f16ca"
      },
      "outputs": [
        {
          "data": {
            "text/plain": [
              "array([7, 6, 4, 5, 1, 3, 0, 2], dtype=int64)"
            ]
          },
          "execution_count": 143,
          "metadata": {},
          "output_type": "execute_result"
        }
      ],
      "source": [
        "sorted_algorithms"
      ]
    },
    {
      "cell_type": "code",
      "execution_count": 144,
      "id": "Ttb4ZUldYIlf",
      "metadata": {
        "id": "Ttb4ZUldYIlf"
      },
      "outputs": [],
      "source": [
        "sorted_algorithms = sorted_algorithms.tolist()"
      ]
    },
    {
      "cell_type": "markdown",
      "id": "6d703249-e679-40f7-a201-a725eb909dd7",
      "metadata": {
        "id": "6d703249-e679-40f7-a201-a725eb909dd7"
      },
      "source": [
        "# Clasificacion de algoritmos"
      ]
    },
    {
      "cell_type": "code",
      "execution_count": 145,
      "id": "hRCXkRj8X9O8",
      "metadata": {
        "colab": {
          "base_uri": "https://localhost:8080/"
        },
        "id": "hRCXkRj8X9O8",
        "outputId": "b7892ad4-f580-4cd2-c5b3-dab5f9e09447"
      },
      "outputs": [
        {
          "name": "stdout",
          "output_type": "stream",
          "text": [
            "Boa\n",
            "Pulse\n",
            "D-e\n",
            "A-e\n",
            "Dijkstra min polucion\n",
            "Astar min polucion\n",
            "Dijkstra min dist\n",
            "Astar min dist\n"
          ]
        }
      ],
      "source": [
        "for i in range(0, len(sorted_algorithms)):\n",
        "  print(alternatives[sorted_algorithms[i]])"
      ]
    }
  ],
  "metadata": {
    "colab": {
      "provenance": []
    },
    "kernelspec": {
      "display_name": "Python 3 (ipykernel)",
      "language": "python",
      "name": "python3"
    },
    "language_info": {
      "codemirror_mode": {
        "name": "ipython",
        "version": 3
      },
      "file_extension": ".py",
      "mimetype": "text/x-python",
      "name": "python",
      "nbconvert_exporter": "python",
      "pygments_lexer": "ipython3",
      "version": "3.9.19"
    }
  },
  "nbformat": 4,
  "nbformat_minor": 5
}
